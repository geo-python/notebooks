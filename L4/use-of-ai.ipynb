{
 "cells": [
  {
   "cell_type": "markdown",
   "id": "5c3091b6-2f2d-400d-89bf-bfa33e4f5179",
   "metadata": {
    "tags": []
   },
   "source": [
    "# AI and programming in Python\n",
    "\n",
    "```{attention}\n",
    "Finnish university students are encouraged to use the CSC Noppe platform.<br/>\n",
    "<a href=\"https://noppe.csc.fi/\"><img alt=\"CSC badge\" src=\"https://img.shields.io/badge/launch-CSC%20Noppe-blue.svg\" style=\"vertical-align:text-bottom\"></a>\n",
    "\n",
    "Others can follow the lesson and fill in their student notebooks using Binder.<br/>\n",
    "<a href=\"https://mybinder.org/v2/gh/geo-python/notebooks/master?urlpath=lab/tree/L4/use-of-ai.ipynb\"><img alt=\"Binder badge\" src=\"https://img.shields.io/badge/launch-binder-red.svg\" style=\"vertical-align:text-bottom\"></a>\n",
    "```\n",
    "\n",
    "**Warning**: The aim of this lesson is to familarize you with the use of AI and large language models for producing code. The main objective is to show the potentials and risks of these newly arising tools for programming. However, <a href=\"https://geo-python-site.readthedocs.io/en/latest/course-info/ai-tools.html\">other than where explicitly stated in the exercises, we do not encourage use of these tools in this course</a>.   \n",
    "\n",
    "\n",
    "**Note**: The codes produced by ChatGPT in this lesson are not necessarily examples of good Python codes.\n",
    "\n",
    "## Sources\n",
    "\n",
    "The Python code examples in this lesson were produced by the [ChatGPT](https://openai.com/chatgpt) application by [OpenAI](https://openai.com)."
   ]
  },
  {
   "cell_type": "markdown",
   "id": "6a98bb3d-9490-4183-bac9-10532463580a",
   "metadata": {},
   "source": [
    "## AI and LLM\n",
    "\n",
    "AI, or Artificial Intelligence, refers to the field of computer science dedicated to developing systems and algorithms that enable machines to perform tasks typically requiring human intelligence, such as problem-solving, learning, and natural language understanding. On the other hand, LLM, or Large Language Models, are a specific category of AI models designed to process and generate human language text. [ChatGPT](https://openai.com/chatgpt) (Chat Generative Pre-trained Transformer) is one common example of an LLM, created by [OpenAI](https://openai.com/). ChatGPT excels in understanding and generating human-like text, making it useful for tasks like chatbots, virtual assistants, and content generation."
   ]
  },
  {
   "cell_type": "markdown",
   "id": "3d54e6f1-edcd-48c6-8def-4ec22914e0cc",
   "metadata": {
    "jp-MarkdownHeadingCollapsed": true
   },
   "source": [
    "## Getting started with ChatGPT\n",
    "\n",
    "\n",
    "In order to use ChatGPT you will first need to create an account on OpenAI. If you already have an account, you can login using your account. If you are new to OpenAI, you can create a new account for free. Click on the **Get Started** button to go to the signup page. Here you can create an account using your email or by linking it to another of your accounts (such as Google). In order to sign up, you need to provide your email address, mobile phone number, and date of birth (!). Doing this is voluntary for this course. \n",
    "\n",
    "![ChatGPT signp](img/chatgpt_signup.png)\n",
    "\n",
    "Once you have created your account and activated it, you can login to access [ChatGPT](https://chat.openai.com/)."
   ]
  },
  {
   "cell_type": "markdown",
   "id": "e9d8c2a2-aa06-4aed-a85b-6f2db9e64d77",
   "metadata": {},
   "source": [
    "## Using ChatGPT\n",
    "\n",
    "You can communicate with ChatGPT using the prompt at the bottom of the page (where it reads \"Send a message\").   \n",
    "\n",
    "![ChatGPT](img/chatgpt.png)\n",
    "\n",
    "A prompt is a specific instruction, query, or input provided to a computer program or artificial intelligence system to elicit a desired response or output. In the context of language models like ChatGPT, a prompt typically consists of a text-based request or question that users provide to the model. The model generates a response based on the content and context of the prompt. Prompts are used to interact with AI systems, instruct them on what task to perform, or seek information or assistance from them. The quality and clarity of the prompt can significantly impact the accuracy and relevance of the AI's response.\n",
    "\n",
    "Lets start with an example prompt we can type in:\n",
    "\n",
    "```\n",
    "Write a Python function that adds two numbers\n",
    "```\n",
    "\n",
    "Response:"
   ]
  },
  {
   "cell_type": "code",
   "execution_count": null,
   "id": "b708e8f8-2f21-4712-bd08-76d1bd913aa9",
   "metadata": {},
   "outputs": [],
   "source": [
    "def add_numbers(a, b):\n",
    "    return a + b"
   ]
  },
  {
   "cell_type": "markdown",
   "id": "f840f754-7ab0-449d-b4b4-11885eb6904e",
   "metadata": {},
   "source": [
    "OK, so we clearly got back a Python function that appears to work to add two numbers. Cool!\n",
    "\n",
    "ChatGPT remembers your conversation (i.e., history of prompts). So you can ask it to modify a previously provided response for you. Let's try this with another prompt.\n",
    "\n",
    "```\n",
    "Give me an example of using the output of this function in an f-string\n",
    "```\n",
    "\n",
    "Response:"
   ]
  },
  {
   "cell_type": "code",
   "execution_count": null,
   "id": "7503b792-25af-4d21-ac55-6b2e0abfa1bf",
   "metadata": {},
   "outputs": [],
   "source": [
    "def add_numbers(a, b):\n",
    "\n",
    "    return a + b\n",
    "\n",
    "num1 = 5\n",
    "num2 = 3\n",
    "result = add_numbers(num1, num2)\n",
    "formatted_string = f\"The sum of {num1} and {num2} is {result}.\"\n",
    "print(formatted_string)"
   ]
  },
  {
   "cell_type": "markdown",
   "id": "0bb41ac9-9bc6-45c8-8cd6-c2ed071b7b5d",
   "metadata": {},
   "source": [
    "OK, so it remembered our function and did as requested.\n",
    "\n",
    "Let's try another prompt:\n",
    "\n",
    "```\n",
    "Add inline comments to the code\n",
    "```\n",
    "\n",
    "Response:"
   ]
  },
  {
   "cell_type": "code",
   "execution_count": null,
   "id": "728718f4-41a5-4c1a-904a-4667383bbbf1",
   "metadata": {},
   "outputs": [],
   "source": [
    "# Define a function that takes two numbers as input and returns their sum.\n",
    "def add_numbers(a, b):\n",
    "    \"\"\"\n",
    "    This function takes two numbers as input and returns their sum.\n",
    "    \n",
    "    :param a: The first number to be added.\n",
    "    :param b: The second number to be added.\n",
    "    :return: The sum of the two input numbers.\n",
    "    \"\"\"\n",
    "    return a + b\n",
    "\n",
    "# Define two numbers to be added.\n",
    "num1 = 5\n",
    "num2 = 3\n",
    "\n",
    "# Call the add_numbers function and store the result in the 'result' variable.\n",
    "result = add_numbers(num1, num2)\n",
    "\n",
    "# Using an f-string to format the output and include variable values.\n",
    "formatted_string = f\"The sum of {num1} and {num2} is {result}.\"\n",
    "\n",
    "# Print the formatted string.\n",
    "print(formatted_string)"
   ]
  },
  {
   "cell_type": "markdown",
   "id": "55efa290-2d29-42c4-9735-a0c653613996",
   "metadata": {},
   "source": [
    "Wow! It seems that ChatGPT is quite capable for this kind of task.\n",
    "\n",
    "```{note}\n",
    "The same prompt can yield different responses from ChatGPT due to factors such as randomness in word selection, variations in model versions and training data, contextual influences from preceding dialogue, ambiguity in prompts, settings, response length parameters, and the model's exposure to diverse internet text. Additionally, fine-tuning for specific tasks, user feedback, and evolving preferences can all contribute to the diversity of generated responses.\n",
    "```"
   ]
  },
  {
   "cell_type": "markdown",
   "id": "1879955f-0bbf-4c2c-b1ee-f55d36191ccd",
   "metadata": {},
   "source": [
    "Let's try another prompt:\n",
    "\n",
    "```\n",
    "Write me a python function that converts degrees Fahrenheit to Celsius\n",
    "```\n",
    "\n",
    "Response:"
   ]
  },
  {
   "cell_type": "code",
   "execution_count": null,
   "id": "0f02864f-2606-425b-813b-a42e520fe11b",
   "metadata": {
    "tags": []
   },
   "outputs": [],
   "source": [
    "def fahrenheit_to_celsius(fahrenheit):\n",
    "    \"\"\"\n",
    "    Converts a temperature from degrees Fahrenheit to degrees Celsius.\n",
    "\n",
    "    :param fahrenheit: Temperature in degrees Fahrenheit\n",
    "    :return: Temperature in degrees Celsius\n",
    "    \"\"\"\n",
    "    celsius = (fahrenheit - 32) * 5/9\n",
    "    return celsius"
   ]
  },
  {
   "cell_type": "markdown",
   "id": "7398673d-1059-45d6-a953-1030686836eb",
   "metadata": {},
   "source": [
    "Now let's test this function."
   ]
  },
  {
   "cell_type": "code",
   "execution_count": null,
   "id": "211b12b3-b24e-4cf6-952f-04542e8e1292",
   "metadata": {
    "tags": []
   },
   "outputs": [],
   "source": [
    "# Write your code below\n"
   ]
  },
  {
   "cell_type": "markdown",
   "id": "7be7e14c-0095-44e3-8c2a-13e5b3d68d43",
   "metadata": {},
   "source": [
    "It seems that things are working, at least in our example output from ChatGPT."
   ]
  },
  {
   "cell_type": "markdown",
   "id": "28f59c67-6803-43f1-8b3c-691eb4ac3f3e",
   "metadata": {},
   "source": [
    "### Writing good prompts\n",
    "\n",
    "Remember that you are talking with a machine in your prompts. So it is very important for you to provide prompts that are **clear** and have **clear objectives**. In your prompts, try to provide as much **context** and **instruction** as possible.\n",
    "\n",
    "Here's an example of a bad prompt:\n",
    "\n",
    "```\n",
    "A function to convert Kelvin to Newton\n",
    "```\n",
    "\n",
    "Response:"
   ]
  },
  {
   "cell_type": "code",
   "execution_count": null,
   "id": "2f05b1a8-7a29-40ad-b338-47744c04c279",
   "metadata": {},
   "outputs": [],
   "source": [
    "def kelvin_to_newton(mass_kg, acceleration_m_s2):\n",
    "    force_newton = mass_kg * acceleration_m_s2\n",
    "    return force_newton"
   ]
  },
  {
   "cell_type": "markdown",
   "id": "cdb4cbc6-f335-44db-a402-07d544db6019",
   "metadata": {},
   "source": [
    "This doesn't look correct, as we were aiming to convert from Kelvins to degrees Newton, as we did in the functions lesson.\n",
    "\n",
    "Let's write this better by adding more context:\n",
    "\n",
    "```\n",
    "A function to convert temperature in Kelvin to Newton\n",
    "```"
   ]
  },
  {
   "cell_type": "code",
   "execution_count": null,
   "id": "bb0f7e8d-f307-44fd-895c-881d7cb75bb6",
   "metadata": {},
   "outputs": [],
   "source": [
    "def kelvin_to_newton(kelvin_temperature):\n",
    "    newton_temperature = kelvin_temperature * 0.33\n",
    "    return newton_temperature"
   ]
  },
  {
   "cell_type": "markdown",
   "id": "8577b2da-1a5f-4955-8b7c-29d059d4f862",
   "metadata": {},
   "source": [
    "OK, so now we get a better looking function that at least has something about a temperature conversion."
   ]
  },
  {
   "cell_type": "markdown",
   "id": "85a5b706-5d07-425f-909a-ec56a500d2ca",
   "metadata": {},
   "source": [
    "#### Check your understanding\n",
    "\n",
    "This is a good example of a better prompt, but something is still not quite right about this output code. Can you identify any potential problems with the function created above?\n",
    "\n",
    "Enter your ideas and vote on the suggestions at [https://geo-python.github.io/poll/](https://geo-python.github.io/poll/)."
   ]
  },
  {
   "cell_type": "markdown",
   "id": "dec7e1d7-e592-4721-a017-b6d00a3487be",
   "metadata": {},
   "source": [
    "### Testing ChatGPT-generated code\n",
    "\n",
    "Now we can test out our temperature conversion function using a list of temperatures in Kelvins."
   ]
  },
  {
   "cell_type": "code",
   "execution_count": null,
   "id": "89a049c5-878d-49cb-90e4-fc3a6f0bb766",
   "metadata": {
    "tags": []
   },
   "outputs": [],
   "source": [
    "# Write your code below\n"
   ]
  },
  {
   "cell_type": "markdown",
   "id": "098a00df-8e1b-4e50-89c2-ccd652e0c0c8",
   "metadata": {
    "tags": []
   },
   "source": [
    "Oh, no! This results in an error as the function is not designed to receive a list as input.\n",
    "\n",
    "We can resolve this issue by writing our prompt more precisely:\n",
    "\n",
    "```\n",
    "Give me a python function to convert a list of temperatures in degrees Kelvin to Newton and print out the results\n",
    "```\n",
    "\n",
    "Response:"
   ]
  },
  {
   "cell_type": "code",
   "execution_count": null,
   "id": "32e76ad0-e522-4d22-bec0-8af742e1a713",
   "metadata": {
    "tags": []
   },
   "outputs": [],
   "source": [
    "def kelvin_to_newton(temperature_k):\n",
    "    return temperature_k * 0.33\n",
    "\n",
    "def convert_and_print_temperatures(kelvin_temperatures):\n",
    "    print(\"Kelvin to Newton Conversion:\")\n",
    "    for temp_k in kelvin_temperatures:\n",
    "        temp_n = kelvin_to_newton(temp_k)\n",
    "        print(f\"{temp_k} K is equal to {temp_n:.2f} N\")"
   ]
  },
  {
   "cell_type": "markdown",
   "id": "b27ec500-426b-40fc-a595-1c1875f37668",
   "metadata": {},
   "source": [
    "Now let's test things out with the same list of temperatures in Kelvins from above."
   ]
  },
  {
   "cell_type": "code",
   "execution_count": null,
   "id": "cf6fcfcb-aaa4-42da-86e1-5c5d984f5973",
   "metadata": {
    "tags": []
   },
   "outputs": [],
   "source": [
    "# Write your code below\n"
   ]
  },
  {
   "cell_type": "markdown",
   "id": "466fef71-4b4f-497d-a4f9-3eb2666e2900",
   "metadata": {},
   "source": [
    "OK, so it seems the function now handles lists of temperatures without any trouble. Let's see if we can now create a new function that classifies temperatures into five classes. We can start with this prompt:\n",
    "\n",
    "```\n",
    "Create a python function that classifies an input temperature to five classes\n",
    "```\n",
    "\n",
    "Response:"
   ]
  },
  {
   "cell_type": "code",
   "execution_count": null,
   "id": "809da3c9-c2c1-45c2-bbe2-cfef385e11fa",
   "metadata": {
    "tags": []
   },
   "outputs": [],
   "source": [
    "def create_temperature_classifier():\n",
    "    def classify_temperature(temperature):\n",
    "        if temperature < 0:\n",
    "            return \"Below Freezing\"\n",
    "        elif 0 <= temperature < 20:\n",
    "            return \"Cold\"\n",
    "        elif 20 <= temperature < 40:\n",
    "            return \"Cool\"\n",
    "        elif 40 <= temperature < 60:\n",
    "            return \"Moderate\"\n",
    "        elif 60 <= temperature < 80:\n",
    "            return \"Warm\"\n",
    "        else:\n",
    "            return \"Hot\"\n",
    "    return classify_temperature"
   ]
  },
  {
   "cell_type": "markdown",
   "id": "3435c49d-33dd-429e-a8f4-d84b2db09cee",
   "metadata": {},
   "source": [
    "This works, but it is a vague prompt that does not specify the temperature unit or the classification logic needed. And ChatGPT provides a strange solution using an unnecesssary nested function for it. In addition, it is actually creating 6 classes instead of 5.\n",
    "\n",
    "Regardless, let's see how it works:"
   ]
  },
  {
   "cell_type": "code",
   "execution_count": null,
   "id": "8f2dc810-2a8e-4b86-9fbb-37a74ccc2dcf",
   "metadata": {
    "tags": []
   },
   "outputs": [],
   "source": [
    "classify_temp = create_temperature_classifier()\n",
    "temperature = 35\n",
    "category = classify_temp(temperature)\n",
    "print(f\"The temperature {temperature}°C is classified as {category}\")"
   ]
  },
  {
   "cell_type": "markdown",
   "id": "7d196b34-a864-40b3-84ec-e21bfb7e09ef",
   "metadata": {},
   "source": [
    "OK, so there are some issues... Perhaps we could do better by using the ChatGPT code as a starting place and modifying things to make more sense for our use:"
   ]
  },
  {
   "cell_type": "code",
   "execution_count": null,
   "id": "a4957565-eb19-4e7c-bfac-ea933c70a61c",
   "metadata": {},
   "outputs": [],
   "source": [
    "# Write your code below\n"
   ]
  },
  {
   "cell_type": "markdown",
   "id": "45168577-484c-4930-9bc7-3c40e6144cd0",
   "metadata": {},
   "source": [
    "Let's start with a basic test of the function with negative temperatures:"
   ]
  },
  {
   "cell_type": "code",
   "execution_count": null,
   "id": "24bb7725-6c7b-4f58-87ed-422c7329bb74",
   "metadata": {
    "tags": []
   },
   "outputs": [],
   "source": [
    "# Write your code below\n"
   ]
  },
  {
   "cell_type": "markdown",
   "id": "a73505d2-760b-4aae-a0e0-911b7bcf7fe1",
   "metadata": {
    "tags": []
   },
   "source": [
    "According to this function -60 and -1 are both in the same class!"
   ]
  },
  {
   "cell_type": "markdown",
   "id": "136db3c1-9e93-4b89-af56-cdc2c8cd1a46",
   "metadata": {},
   "source": [
    "## Privacy matters\n",
    "\n",
    "It's important to exercise caution when sharing personal or sensitive information with AI models like ChatGPT. While these models are designed to provide helpful information and engage in conversations, they don't have the ability to understand the implications of sharing sensitive data or guarantee complete privacy. Avoid sharing confidential information such as personal identification numbers, passwords, financial details, or any data that could compromise your privacy or security. Always remember that interactions with AI should be treated as public, and it's best to prioritize your privacy and safety online."
   ]
  },
  {
   "cell_type": "markdown",
   "id": "def3dade-6cc6-4612-a878-dbe504601e44",
   "metadata": {},
   "source": [
    "## Conclusion\n",
    "\n",
    "ChatGPT, as an example of a LLM, can be a useful tool for creating parts of code when used with clear and specific prompts. Good prompts may yield useful code, while vague or unclear prompts usually result in unhelpful or wrong responses. Remember to be aware of ChatGPT's limitations and thoroughly review the generated code to ensure it meets your requirements and standards.\n",
    "\n",
    "ChatGPT has limitations, and it is important to be aware of them:\n",
    "\n",
    "- Lack of Context: ChatGPT generates code based on the provided prompt, but it may not understand the broader context of your project or requirements.\n",
    "- Complex Logic: While ChatGPT can handle simple functions well, it may struggle with complex logic, intricate algorithms, or code that requires domain-specific knowledge.\n",
    "- Testing: Always thoroughly test the code generated by ChatGPT to ensure it functions as expected and doesn't have vulnerabilities.\n",
    "- Security: Be cautious when using ChatGPT to generate code for security-critical applications, as it may not consider all security risks.\n",
    "\n",
    "AI models can help you with certain tasks but be cautious with how you use them. The results can vary significantly depending on your prompt. Where there is nor information or context provided, the model makes assumptions which may not be accurate. And remember not to fully trust the result, AIs are smart but they DO make mistakes sometimes.  "
   ]
  }
 ],
 "metadata": {
  "kernelspec": {
   "display_name": "Python 3 (ipykernel)",
   "language": "python",
   "name": "python3"
  },
  "language_info": {
   "codemirror_mode": {
    "name": "ipython",
    "version": 3
   },
   "file_extension": ".py",
   "mimetype": "text/x-python",
   "name": "python",
   "nbconvert_exporter": "python",
   "pygments_lexer": "ipython3",
   "version": "3.11.6"
  }
 },
 "nbformat": 4,
 "nbformat_minor": 5
}
