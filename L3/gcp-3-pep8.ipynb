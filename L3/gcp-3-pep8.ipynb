{
 "cells": [
  {
   "cell_type": "markdown",
   "metadata": {},
   "source": [
    "# GCP 3 - Writing readable code\n",
    "\n",
    "This week's good programming practice focuses on writing code that is easy to read. During the previous lessons we have already discussed good practices regarding [variable naming](../L1/gcp-1-variable-naming.html) and [describing your code using comments](../L2/gcp-2-describing-code.html), which are also part of writing readable code. Here we focus on how to format the actual Python code to make it more readable."
   ]
  },
  {
   "cell_type": "markdown",
   "metadata": {},
   "source": [
    "## Working code vs readable code\n",
    "\n",
    "As you have noticed, Python forces us to indent our code when writing loops and conditional statements. Without the indentation the code won't work at all and you likely will see an `IndentationError`.\n",
    "\n",
    "However, there are many cases in which you are able to write code that runs without errors, but you (or others!) might have a hard time reading it and understanding what the code actually does. \n",
    "\n",
    "Ideally, our Python code would be understandable both for the computer and for humans reading it. [Coding conventions](https://en.wikipedia.org/wiki/Coding_conventions) are a set of generally agreed ways of writing programming code in a specific programming language. Coding conventions help programmers to write code that is consistent and easy to read. Consistency and readability are important for sharing your code with others, and also for helping your own brain to follow along!\n",
    "\n",
    "![xkcd: Code Quality](https://imgs.xkcd.com/comics/code_quality.png)<br/>\n",
    "Source: https://xkcd.com/1513/"
   ]
  },
  {
   "cell_type": "markdown",
   "metadata": {},
   "source": [
    "## The PEP 8 Style Guide\n",
    "\n",
    "```{epigraph}\n",
    "Readability counts.\n",
    "\n",
    "-- [The Zen of Python](https://www.python.org/dev/peps/pep-0020/)\n",
    "```\n",
    "\n",
    "[The PEP 8 Style Guide for Python Code](https://www.python.org/dev/peps/pep-0008/) gives coding conventions that help us write code that is readable (by humans!) and consistent with code written by others.\n",
    "\n",
    "PEP 8 goes far beyond the scope of what we have learned so far during this course, and we recommend that you re-visit the guidelines every now and then when learning new things. Here, we will summarize some highlights that you can start applying to your code right away!\n",
    "\n",
    "- [Maximum line length](#Maximum-line-length)\n",
    "- [Indentation](#Indentation)\n",
    "- [Whitespace and binary operators](#Whitespace-and-binary-operators)\n",
    "- [Avoid extraneous whitespace](#Avoid-extraneous-whitespace)\n",
    "- [Write one statement per line](#Write-one-statement-per-line)"
   ]
  },
  {
   "cell_type": "markdown",
   "metadata": {},
   "source": [
    "### Maximum line length\n",
    "\n",
    "PEP 8 guides us to limit all lines to [79 characters max](https://www.python.org/dev/peps/pep-0008/#maximum-line-length). Comments (multi-line or single line) should be limited to 72 characters.\n",
    "\n",
    "```{note}\n",
    "We use a line length limit of 88 characters on this website. The character limit according to PEP 8 is 79 characters, but often a slightly longer line (up to 90 characters) helps with readability.\n",
    "```\n",
    "\n",
    "One of the guiding principles of Python is that [Simple is better than complex](https://www.python.org/dev/peps/pep-0020/#id3), but sometimes you might end up having a line of code that exceeds 79 characters, for example, when defining lists. \n",
    "\n",
    "Python is able to interpret the code correctly from multiple lines within parentheses, brackets and braces."
   ]
  },
  {
   "cell_type": "code",
   "execution_count": null,
   "metadata": {},
   "outputs": [],
   "source": [
    "# Implicit line continuation inside brackets\n",
    "\n",
    "us_cities = [\"Detroit\", \"Chicago\", \"Denver\", \"Boston\", \n",
    "            \"Portland\", \"San Francisco\", \"Houston\", \"Orlando\"]"
   ]
  },
  {
   "cell_type": "markdown",
   "metadata": {},
   "source": [
    "```{note}\n",
    "The backslash character (`\\`) might be required to break a line when using more complicated statements such as the `with` statement (not covered during this course). You can find more examples in the [PEP 8 documentation](https://www.python.org/dev/peps/pep-0008/#maximum-line-length).\n",
    "```"
   ]
  },
  {
   "cell_type": "markdown",
   "metadata": {},
   "source": [
    "### Indentation\n",
    "\n",
    "Indentation is an essential part of the Python code layout. As we already learned, for loops and conditional statements will not work correctly without consistent indentation. PEP 8 advices us to use [4 spaces per indentation level](https://www.python.org/dev/peps/pep-0008/#indentation). \n",
    "\n",
    "Let's have a look at an example with `if` statements. The indented line tells Python what to do *if* the condition is `True`. Notice the 4 spaces in the indentation."
   ]
  },
  {
   "cell_type": "code",
   "execution_count": null,
   "metadata": {},
   "outputs": [],
   "source": [
    "weather = \"Rain\"\n",
    "wind = \"Windy\"\n",
    "\n",
    "if (weather == \"Rain\") and (wind == \"Windy\"):\n",
    "    print('Just stay at home')"
   ]
  },
  {
   "cell_type": "markdown",
   "metadata": {},
   "source": [
    "Following PEP 8, it is also possible to break the conditional expression into multiple lines if needed. Notice the extra parentheses."
   ]
  },
  {
   "cell_type": "code",
   "execution_count": null,
   "metadata": {},
   "outputs": [],
   "source": [
    "if ((weather == \"Rain\") \n",
    "    and (wind == \"Windy\")):\n",
    "    print(\"Just stay at home\")"
   ]
  },
  {
   "cell_type": "markdown",
   "metadata": {},
   "source": [
    "To increase readability of this if statement, we could add extra indetation to the continuation line of the conditional statement."
   ]
  },
  {
   "cell_type": "code",
   "execution_count": null,
   "metadata": {},
   "outputs": [],
   "source": [
    "if ((weather == \"Rain\") \n",
    "        and (wind == \"Windy\")):\n",
    "    print(\"Just stay at home\")"
   ]
  },
  {
   "cell_type": "markdown",
   "metadata": {},
   "source": [
    "In our case, the first option with the conditional expression on a single line is probably best, as it is not that long after all.\n",
    "\n",
    "In addition, indentation is needed when breaking one command into multiple lines, such as in our example with the list `us_cities` above. In that case we used the implied line continuation inside the brackets. Following the PEP 8 indentation guidelines, we can define `us_cities` also using a [hanging indent](https://www.python.org/dev/peps/pep-0008/#fn-hi). Note that there is no value on the first line of a list formatted this way."
   ]
  },
  {
   "cell_type": "code",
   "execution_count": null,
   "metadata": {},
   "outputs": [],
   "source": [
    "# Hanging indentation:\n",
    "us_cities = [\n",
    "    \"Detroit\", \"Chicago\", \"Denver\", \"Boston\", \n",
    "    \"Portland\", \"San Francisco\", \"Houston\", \"Orlando\"]"
   ]
  },
  {
   "cell_type": "markdown",
   "metadata": {},
   "source": [
    "We will discuss more about indentation during week 4 when defining functions :)."
   ]
  },
  {
   "cell_type": "markdown",
   "metadata": {},
   "source": [
    "\n",
    "### Whitespace and binary operators\n",
    "\n",
    "According to PEP 8 we should [surround binary operators with single space on either side](https://www.python.org/dev/peps/pep-0008/#other-recommendations).\n",
    "\n",
    "We should do this always with:\n",
    "\n",
    "- assignment (`=`)\n",
    "- augmented assignment (`+=`, `-=` etc.)\n",
    "- comparisons (`==`, `<`, `>`, `!=`, `<>`, `<=`, `>=`, `in`, `not in`, `is`, `is not`)\n",
    "- booleans (`and`, `or`, `not`)"
   ]
  },
  {
   "cell_type": "code",
   "execution_count": null,
   "metadata": {
    "collapsed": false,
    "jupyter": {
     "outputs_hidden": false
    }
   },
   "outputs": [],
   "source": [
    "# yes\n",
    "i = 1\n",
    "i = i + 1\n",
    "i += 1"
   ]
  },
  {
   "cell_type": "code",
   "execution_count": null,
   "metadata": {},
   "outputs": [],
   "source": [
    "# no\n",
    "i=1\n",
    "i=i+1\n",
    "i +=1"
   ]
  },
  {
   "cell_type": "markdown",
   "metadata": {},
   "source": [
    "If using operators with different priorities, you can also do this."
   ]
  },
  {
   "cell_type": "code",
   "execution_count": null,
   "metadata": {
    "collapsed": false,
    "jupyter": {
     "outputs_hidden": false
    }
   },
   "outputs": [],
   "source": [
    "# yes\n",
    "a = 1\n",
    "b = 2\n",
    "c = (a+b) * (a-b)"
   ]
  },
  {
   "cell_type": "markdown",
   "metadata": {},
   "source": [
    "### Avoid extraneous whitespace\n",
    "We should also [avoid having a space between the function name and parentheses when calling a function](https://www.python.org/dev/peps/pep-0008/#whitespace-in-expressions-and-statements)."
   ]
  },
  {
   "cell_type": "code",
   "execution_count": null,
   "metadata": {
    "collapsed": false,
    "jupyter": {
     "outputs_hidden": false
    }
   },
   "outputs": [],
   "source": [
    "# yes\n",
    "print(\"Hello\")"
   ]
  },
  {
   "cell_type": "code",
   "execution_count": null,
   "metadata": {
    "collapsed": false,
    "jupyter": {
     "outputs_hidden": false
    }
   },
   "outputs": [],
   "source": [
    "# no\n",
    "print (\"Hello\")"
   ]
  },
  {
   "cell_type": "markdown",
   "metadata": {},
   "source": [
    "### Write one statement per line    \n",
    "\n",
    "For readability it is advised to [avoid writing multiple statements on the same line](https://www.python.org/dev/peps/pep-0008/#other-recommendations)."
   ]
  },
  {
   "cell_type": "code",
   "execution_count": null,
   "metadata": {
    "collapsed": false,
    "jupyter": {
     "outputs_hidden": false
    }
   },
   "outputs": [],
   "source": [
    "# yes\n",
    "print(\"Hello\")\n",
    "print(\"world\")"
   ]
  },
  {
   "cell_type": "code",
   "execution_count": null,
   "metadata": {
    "collapsed": false,
    "jupyter": {
     "outputs_hidden": false
    }
   },
   "outputs": [],
   "source": [
    "# no\n",
    "print(\"Hello\"); print(\"world\")"
   ]
  },
  {
   "cell_type": "code",
   "execution_count": null,
   "metadata": {},
   "outputs": [],
   "source": [
    "# yes\n",
    "temperature = 17\n",
    "if temperature > 25: \n",
    "    print(f\"{temperature} is greater than 25\")"
   ]
  },
  {
   "cell_type": "code",
   "execution_count": null,
   "metadata": {
    "collapsed": false,
    "jupyter": {
     "outputs_hidden": false
    }
   },
   "outputs": [],
   "source": [
    "# no\n",
    "temperature = 17\n",
    "if temperature > 25: print(f\"{temperature} is greater than 25\")"
   ]
  },
  {
   "cell_type": "markdown",
   "metadata": {},
   "source": [
    "### Code readability versus code length?\n",
    "\n",
    "You often have to find a balance between code readability and code length when writing efficient and readable code. [Compound statements](https://docs.python.org/3/reference/compound_stmts.html#compound-statements) are a way of writing multiple statements on the same line to make the code shorter, but perhaps they are also more difficult to read. Thus, [PEP 8 recommends avoiding compound statements in general](https://www.python.org/dev/peps/pep-0008/#other-recommendations). However, sometimes squeezing multiple statements might your best option - you you just have to judge for yourself which option makes the code more readable and use for that."
   ]
  },
  {
   "cell_type": "markdown",
   "metadata": {},
   "source": [
    "```{admonition} List comprehensions\n",
    "One puzzling example regarding this guideline is the use of list comprehensions when defining lists. [List comprehensions](https://docs.python.org/3/tutorial/datastructures.html#list-comprehensions) are a useful approach for creating lists in a concise way. We are not covering list comprehensions during the lessons in this course, but here is a short example from the [Python documentation](https://docs.python.org/3/tutorial/datastructures.html). In some cases, list comprehensions might make your code more readable and concise. In other cases, you might end up writing an excessively long statement which is difficult to read. Let's have a look at two options that produce the same output:\n",
    "\n",
    "**Option A**: This for loop iterates over a range, squares all values and appends them to a list\n",
    "\n",
    "    squares = []\n",
    "    for x in range(10):\n",
    "        squares.append(x**2)\n",
    "\n",
    "**Option B**: Square all values in the range using a list comprehension\n",
    "\n",
    "    squares = [x**2 for x in range(10)]\n",
    "\n",
    "Both approaches are fine, and you are free to choose the option that you think makes the code more readable.\n",
    "```"
   ]
  }
 ],
 "metadata": {
  "anaconda-cloud": {},
  "kernelspec": {
   "display_name": "Python 3 (ipykernel)",
   "language": "python",
   "name": "python3"
  },
  "language_info": {
   "codemirror_mode": {
    "name": "ipython",
    "version": 3
   },
   "file_extension": ".py",
   "mimetype": "text/x-python",
   "name": "python",
   "nbconvert_exporter": "python",
   "pygments_lexer": "ipython3",
   "version": "3.11.6"
  }
 },
 "nbformat": 4,
 "nbformat_minor": 4
}
