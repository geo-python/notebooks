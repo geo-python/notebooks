{
 "cells": [
  {
   "cell_type": "markdown",
   "id": "54768bc4-9375-426b-9a99-0c7ccd4d0b75",
   "metadata": {
    "editable": true,
    "slideshow": {
     "slide_type": ""
    },
    "tags": []
   },
   "source": [
    "# Effective plot design: line plots\n",
    "\n",
    "As we have seen earlier in this chapter, you should be aiming to produce plots that include all of the elements that help make understanding the plotted data intuitive. Typically, this might include:\n",
    "\n",
    "- Axis labels, including units if needed\n",
    "- A legend\n",
    "- Grid lines\n",
    "- Plot and/or figure titles\n",
    "- Annotation on the plot, such as text\n",
    "\n",
    "In addition, there are several factors that can help improve the communication of the plotted information. When plotting line data, for example, the color of the lines might be an important consideration to tell different lines apart. This is especially true when plotting several lines on the same axes, as readers will need to be able to differentiate the lines and know which line refers to a given set of data. But there is more to plotting lines than simply choosing nice colors. \n",
    "\n",
    "Not all people viewing your plots will see them the same way. Some viewers may have color blindness, while others may have printed out a copy of your plot in grayscale from a printer. Thus, while choosing nice colors can help make your plots look visually pleasing to you, it is worthwhile to consider the other viewers or formats in which your plots may be viewed. In this way your visualizations can be as inclusive to different viewers as possible.\n",
    "\n",
    "Let's consider an illustrative example. In this case we will use four lines to plot hypothetical monthly temperatures for various mythical lands in the year 1680 [^nerds]. We will use a `pandas` `DataFrame` called `data` for this purpose with four columns and one year of data. We can see temperatures for the first four months in the data table below by typing `data.head(4)`."
   ]
  },
  {
   "cell_type": "code",
   "execution_count": null,
   "id": "a4801d4b-d318-44a7-b09c-6127b1465d1d",
   "metadata": {
    "tags": [
     "hide-cell"
    ]
   },
   "outputs": [],
   "source": [
    "# Load the libraries we need\n",
    "import matplotlib.pyplot as plt\n",
    "import pandas as pd\n",
    "\n",
    "dates = pd.date_range(start=\"16800101\", end=\"16801201\", freq=\"MS\")\n",
    "temperatures = {\n",
    "    \"Asgard\": [3, 4, 7, 8, 11, 13, 11, 12, 8, 7, 3, 2],\n",
    "    \"Camelot\": [7, 8, 8, 12, 15, 19, 19, 17, 11, 9, 7, 6],\n",
    "    \"Nysa\": [10, 13, 13, 17, 21, 23, 22, 20, 19, 16, 11, 10],\n",
    "    \"Paititi\": [8, 10, 18, 20, 31, 35, 29, 31, 17, 14, 9, 9],\n",
    "}\n",
    "\n",
    "data = pd.DataFrame(index=dates, data=temperatures)"
   ]
  },
  {
   "cell_type": "code",
   "execution_count": null,
   "id": "478a2a8b-9c62-4730-a36d-df91803a5342",
   "metadata": {},
   "outputs": [],
   "source": []
  },
  {
   "cell_type": "markdown",
   "id": "1bc0fea3-fede-4e78-b58d-793f49ef6484",
   "metadata": {},
   "source": [
    "Using this data we can create a plot (Figure 4.16) to visualize the temperatures for the four mythical lands using the `pandas` `.plot()` function."
   ]
  },
  {
   "cell_type": "code",
   "execution_count": null,
   "id": "fbf6888e-5b51-4c62-aeb1-bcd1bfa0ec28",
   "metadata": {},
   "outputs": [],
   "source": []
  },
  {
   "cell_type": "markdown",
   "id": "a1a3a474-7e97-461d-bde1-0109bed0a872",
   "metadata": {},
   "source": [
    "_**Figure 4.16**. Hypothetical temperatures for one year in different mythical lands._\n",
    "\n",
    "In Figure 4.16, we can see a visualization of the contents of the `data` `DataFrame` and many people will be able to distinguish the lines using the four colors that have been selected. However, not all people may see the figure in the same way, and those who have printed a copy in grayscale will see things quite differently.\n",
    "\n",
    "![_**Figure 4.17**. Hypothetical mythical land temperatures in grayscale._](../img/lines-grayscale.png)\n",
    "\n",
    "_**Figure 4.17**. Hypothetical mythical land temperatures in grayscale._\n",
    "\n",
    "In Figure 4.17, we see that it is nearly impossible to tell which line is which in the plot, so color alone is not helping in distinguishing the lines on this plot. In this case a better option is to vary both the color and line pattern for each line so they can be distinguished easily irrespective of the line colors and how they may be seen. This can be done using the `style` parameter in the `.plot()` function, as shown below."
   ]
  },
  {
   "cell_type": "code",
   "execution_count": null,
   "id": "bec06411-127b-4c54-b500-b6d3b894b275",
   "metadata": {},
   "outputs": [],
   "source": [
    "ax = data.plot(\n",
    "    style=[\"r-\", \"b:\", \"g--\", \"k-.\"],\n",
    "    xlabel=\"Date\",\n",
    "    ylabel=\"Temperature (°C)\",\n",
    "    figsize=(12, 6),\n",
    "    title=\"Hypothetical temperatures of mythical lands\",\n",
    ")\n"
   ]
  },
  {
   "cell_type": "markdown",
   "id": "3def49d3-8c8c-4f20-bc58-2e604b890979",
   "metadata": {},
   "source": [
    "_**Figure 4.18**. Hypothetical mythical land temperatures with different line styles._\n",
    "\n",
    "Here in Figure 4.18, viewers can easily tell which line is which whether they have colorblindness or have printed a figure from a printer in grayscale. The difference, of course, is that this figure uses four different line styles: `-` for a solid line, `:` for a dotted line, `--` for a dashed line, and `-.` for a line with dots and dashes. These are defined using shorthand plot formatting for `matplotlib` [^shorthand], for which they are the only four available line styles. If your plots require more than four line styles, you will likely need to use `matplotlib` rather than `pandas` for the plotting. In that case, you can find more about the line styles for `matplotlib` plotting in the [`matplotlib` documentation online](https://matplotlib.org/stable/gallery/lines_bars_and_markers/linestyles.html) [^linestyles]. \n",
    "\n",
    "Although this plotting example may seem like a simple tip, it can make a great difference in ensuring all viewers see the same data effectively the same way. We will return to the topic of effective plot design to discuss selecting colors and other visualization tips in greater detail in Chapter 8."
   ]
  }
 ],
 "metadata": {
  "kernelspec": {
   "display_name": "Python 3 (ipykernel)",
   "language": "python",
   "name": "python3"
  },
  "language_info": {
   "codemirror_mode": {
    "name": "ipython",
    "version": 3
   },
   "file_extension": ".py",
   "mimetype": "text/x-python",
   "name": "python",
   "nbconvert_exporter": "python",
   "pygments_lexer": "ipython3",
   "version": "3.13.3"
  }
 },
 "nbformat": 4,
 "nbformat_minor": 5
}
