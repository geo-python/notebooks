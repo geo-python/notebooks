{
 "cells": [
  {
   "cell_type": "markdown",
   "metadata": {
    "editable": true,
    "slideshow": {
     "slide_type": ""
    },
    "tags": []
   },
   "source": [
    "# Plotting with pandas and matplotlib\n",
    "\n",
    "At this point we are familiar with some of the features of pandas and explored some very basic data visualizations at the [end of Chapter 3](../../chapter-03/nb/03-temporal-data.ipynb). Now, we will wade into visualizing our data in more detail, starting by using the built-in plotting options available directly in pandas. Much like the case of pandas being built upon numpy, plotting in pandas takes advantage of plotting features from the `matplotlib` [^matplotlib] plotting library. Plotting in pandas provides a basic framework for quickly visualizing our data, but as you'll see we will need to also use features from matplotlib for more advanced formatting and to enhance our plots. In particular, we will use features from the the `pyplot` [^pyplot] module in matplotlib, which provides MATLAB-like [^matlab] plotting. We will also briefly explore creating interactive plots using the `hvplot` [^hvplot] plotting library, which allows us to produce plots similar to those available in the `bokeh` plotting library [^bokeh] using plotting syntax very similar to that in pandas."
   ]
  },
  {
   "cell_type": "markdown",
   "metadata": {
    "tags": []
   },
   "source": [
    "## Creating a basic x-y plot\n",
    "\n",
    "The first step for creating a basic x-y plot is to import `pandas` and read in the data we want to plot from a file. We will be using a `datetime` index for our weather observation data as we [learned in Chapter 3](/part1/chapter-03/nb/03-temporal-data.ipynb). In this case, however, we'll include a few additional parameters in order to read the data with a `datetime` index. We will read in the data first and then discuss what happened.\n",
    "\n",
    "Let's start by importing the libraries we will need (`pandas` and `matplotlib`) and then read in the data."
   ]
  },
  {
   "cell_type": "code",
   "execution_count": null,
   "metadata": {},
   "outputs": [],
   "source": [
    "import pandas as pd\n",
    "import matplotlib.pyplot as plt\n",
    "\n",
    "fp = \"data/029740.txt\"\n",
    "\n",
    "data = pd.read_csv(\n",
    "    fp,\n",
    "    sep=r\"\\s+\",\n",
    "    na_values=[\"*\", \"**\", \"***\", \"****\", \"*****\", \"******\"],\n",
    "    usecols=[\"YR--MODAHRMN\", \"TEMP\", \"MAX\", \"MIN\"],\n",
    "    parse_dates=[\"YR--MODAHRMN\"],\n",
    "    index_col=\"YR--MODAHRMN\",\n",
    ")"
   ]
  },
  {
   "cell_type": "markdown",
   "metadata": {},
   "source": [
    "So, let us now examining what is different here compared to files read in Chapter 3. There are two significant changes in the form of two new parameters: `parse_dates` and `index_col`.\n",
    "\n",
    "- `parse_dates` takes a Python list of column name(s) for data file columns that contain date data and `pandas` will parse and convert data in these column(s) to the `datetime` data type. For many common date formats `pandas` will automatically recognize and convert the date data.\n",
    "- `index_col` is used to state a column that should be used to index the data in the `DataFrame`. In this case, we end up with our date data as the `DataFrame` index. This is a very useful feature in `pandas` as we will see below.\n",
    "\n",
    "Having read in the data file, we can now have a quick look at what we have using `data.head()`."
   ]
  },
  {
   "cell_type": "code",
   "execution_count": null,
   "metadata": {},
   "outputs": [],
   "source": []
  },
  {
   "cell_type": "markdown",
   "metadata": {},
   "source": [
    "As mentioned above, you can now see that the index column for our `DataFrame` (the first column) contains date values related to each row in the `DataFrame`. With this we are already able to create our first plot using `pandas`. We will start by using the basic line plot in `pandas` to visualize at our temperature data."
   ]
  },
  {
   "cell_type": "code",
   "execution_count": null,
   "metadata": {},
   "outputs": [],
   "source": []
  },
  {
   "cell_type": "markdown",
   "metadata": {},
   "source": [
    "_**Figure 4.3**. A basic plot of the example temperature data using Matplotlib._\n",
    "\n",
    "Now, let's break down what just happened. First, we first created the plot object using the `.plot()` method of the `data` `DataFrame`. Without any parameters given, this makes the plot of all columns in the `DataFrame` as lines of different color on the y-axis with the index, time in this case, on the x-axis. Second, in case we want to be able to modify the plot or add anything to it after the basic plot has been created, we assign the plot object to the variable `ax`. Why don't we check its data type below using the `type()` function."
   ]
  },
  {
   "cell_type": "code",
   "execution_count": null,
   "metadata": {},
   "outputs": [],
   "source": []
  },
  {
   "cell_type": "markdown",
   "metadata": {},
   "source": [
    "OK, so this is a data type we have not seen previously, but clearly it is part of `matplotlib`. In case you were skeptical before, we now have evidence that `pandas` is using `matplotlib` for generating plots."
   ]
  },
  {
   "cell_type": "markdown",
   "metadata": {},
   "source": [
    "### Selecting plot data based on date\n",
    "\n",
    "Now we can make a few small changes to our plot to further explore plotting with `pandas`. We can begin by plotting only the observed temperatures in the `data['TEMP']` column. In addition, we can restrict ourselves to observations from only the afternoon of October 1, 2019 (the last day in this data set). We will do this by first creating a `pandas` `Series` for only the desired data column and restricting the date of interest. Once we have created the new `pandas` `Series` we can plot the results."
   ]
  },
  {
   "cell_type": "code",
   "execution_count": null,
   "metadata": {},
   "outputs": [],
   "source": [
    "# Create basic plot with subset of data\n"
   ]
  },
  {
   "cell_type": "markdown",
   "metadata": {},
   "source": [
    "_**Figure 4.4**. A plot of the example temperature data for the afternoon of October 1, 2019._\n",
    "\n",
    "So, what did we change this time? First, we selected only the `'TEMP'` column from the `data` `DataFrame` by using `data['TEMP']` instead of `data`. Second, we added a restriction to the date range using `.loc[]` to select only rows where the index value `data.index` is greater than `'201910011200'`. In that case, the number in the string is in the format `'YYYYMMDDHHMM'`, where `YYYY` is the year, `MM` is the month, `DD` is the day, `HH` is the hour, and `MM` is the minute. This will result in temperatures only from noon onward on October 1, 2019. Finally, by saving this selection to the variable `oct1_temps` we're able to now use `oct1_temps.plot()` to plot only our selection. As you can see, we are able to easily control the values plotted in `pandas`, but we can do even better."
   ]
  },
  {
   "cell_type": "markdown",
   "metadata": {},
   "source": [
    "## Basic plot formatting\n",
    "\n",
    "We can control the appearance of our plots, making them look nicer and provide more information by using a few additional plotting options available in `pandas` and/or `matplotlib`. Let's start by changing the line format, adding some axis labels, and adding a title."
   ]
  },
  {
   "cell_type": "code",
   "execution_count": null,
   "metadata": {},
   "outputs": [],
   "source": [
    "# Change line and symbol format, and add axis labels/title\n"
   ]
  },
  {
   "cell_type": "markdown",
   "metadata": {},
   "source": [
    "_**Figure 4.5**. A plot of the example temperature data with additional formatting, a title, and axis labels._\n",
    "\n",
    "Now we see that our temperature data as a black dashed line with circles indicating the temperature values from the data file. This comes from the additional parameter `style='ko--'`. In this case, `k` tells the `oct1_temps.plot()` function to use black color for the lines and symbols, `o` tells it to show circles at the data points, and `--` says to use a dashed line between points. You can use `help(oct1_temps.plot)` to find out more about formatting plots. We have also added a title using the `title` parameter, and axis labels using the `xlabel` and `ylabel` parameters."
   ]
  },
  {
   "cell_type": "markdown",
   "metadata": {},
   "source": [
    "## Further formatting the plot and figure\n",
    "\n",
    "In addition to labeling the plot axes and adding a title, there are several other common plot attributes one might like to utilize. We briefly present some of the most common plot features here and then demonstrate how they work in a modified example plot below."
   ]
  },
  {
   "cell_type": "markdown",
   "metadata": {},
   "source": [
    "### Changing the figure size\n",
    "\n",
    "While the default plot sizes we're working with are fine, it is often helpful to be able to control the figure size. Fortunately, there is an easy way to change the figure size in `pandas` and `matplotlib`. In order to define the figure size, we simply include the `figsize` parameter with a tuple (set of values in normal parentheses) that lists the width and height of the figure (in inches!).\n",
    "\n",
    "For example, adding the parameter\n",
    "\n",
    "```python\n",
    "figsize=(12, 6)\n",
    "```\n",
    "to the `ax.plot()` function will increase the figure size to be 12 inches wide and 6 inches tall.\n",
    "\n",
    "Note that it is also possible to change the default figure size for all figures in a Jupyter Notebook by importing the `pyplot` module from `matplotlib` (i.e., `import matplotlib.pyplot as plt`)and then defining the default figure size using `plt.rcParams['figure.figsize'] = [12, 6]`. In this case the figure size should be given as a Python `list`."
   ]
  },
  {
   "cell_type": "markdown",
   "metadata": {},
   "source": [
    "### Adding text to the figure\n",
    "\n",
    "It is also possible to add text that can be displayed on a plot using `ax.text()`. For example, \n",
    "\n",
    "```python\n",
    "ax.plot(...)\n",
    "x, y = \"201910011800\", 42\n",
    "ax.text(x, y, \"This is my text.\")\n",
    "```\n",
    "\n",
    "would add the text \"This is my text.\" aligned to the left starting from the date and time 6:00 pm on October 1, 2019 (`x=\"201910011800\"`) and at temperature `y=42`. Notice that the `x` coordinate is passed as a text following the formatting in the original data."
   ]
  },
  {
   "cell_type": "markdown",
   "metadata": {},
   "source": [
    "### Changing the axis ranges\n",
    "\n",
    "In some cases you may want to plot only a subset of the data you are working with. You can modify the range of values that are plotted by definiing the axis ranges. Changing the plot axes can be done using the `xlim` and `ylim` parameters of the `.vplot()` function, where `xmin` is the minimum bound of the x-axis, `xmax` is the maximum bound, and the same goes for the y-axis with `ymin` and `ymax`. For example, adding\n",
    "\n",
    "```python\n",
    "ax.plot(\n",
    "    ...\n",
    "    xlim=[\"201910011500\", \"201910012200\"],\n",
    "    ylim=[38, 44]\n",
    ")\n",
    "```\n",
    "\n",
    "to the parameter list for `ax.plot()` would change the x-axis range to 3:00 pm to 10:00 pm on October 1, 2019 and the y-axis range to 38 to 44 degrees.\n",
    "\n",
    "It is also possible to use the `datetime` library to make it somewhat easier to format ranges when defining axis limits. The benefit is that it can be more clear to define dates in the `datetime` format as opposed to a long text string. As an example, we could define the same date ranges as above using the format below. Note that we must first import the `datetime` library before using it.\n",
    "\n",
    "```python\n",
    "from datetime import datetime\n",
    "\n",
    "# Use datetime to define axis limits\n",
    "xmin = datetime(2019, 10, 1, 15)\n",
    "xmax = datetime(2019, 10, 1, 22)\n",
    "\n",
    "...\n",
    "ax.plot(\n",
    "    ...\n",
    "    xlim=[xmin, xmax]\n",
    ")\n",
    "```\n",
    "\n",
    "In this case, 3:00 pm on October 1, 2019 is defined by `datetime(2019, 10, 1, 15)` using the `datetime` library. In this format we are able to specify a set of comma-separated values for the year, month, day, hour, minute, seconds, and microseconds to define a date. If only year, month, and day are given, `datetime` assumes the time on that day is midnight at the start of the day.\n",
    "\n",
    "Defining axis ranges this way is handy because it will adjust the range of values shown on the plot, but not alter the source data in any way. This can be quite nice when exploring your data sets."
   ]
  },
  {
   "cell_type": "markdown",
   "metadata": {},
   "source": [
    "### Adding a legend\n",
    "\n",
    "The final example of a common plot feature we can add is a legend. The legend allows you to provide some additional information about the lines, points, or other features of a plot, and adding a legend is quite simple. To do so, we need to add two things: a `label` parameter in the `.plot()` function that lists the text that should be displayed in the legend, and a call to the `.legend()` function to display the plot legend. For example, adding the following to the plot will add and display a legend.\n",
    "\n",
    "```python\n",
    "ax.plot(\n",
    "    ...\n",
    "    label=\"Observed temperature\"\n",
    ")\n",
    "ax.legend()\n",
    "```\n",
    "\n",
    "This would add the label \"Observed temperature\" to the legend for the line formatted using the `ax.plot()` function. The legend can be displayed by adding `ax.legend()` to the code.\n",
    "\n",
    "Note that by default the legend will automatically be positioned in the top right corner of a plot, or in a location where it minimizes interference with other plot elements. The location of the legend can be controlled using the `loc` parameter in the call to the `.legend()` function. The [`matplotlib` documentation](https://matplotlib.org/stable/api/_as_gen/matplotlib.pyplot.legend.html) [^matplotlib-legend] contains more information about how to control the location of the plot legend."
   ]
  },
  {
   "cell_type": "markdown",
   "metadata": {},
   "source": [
    "### The modified example plot\n",
    "\n",
    "Based on the additions above (changing the figure size, adding text to the plot, etc.), the modified plot can be generated using the code below."
   ]
  },
  {
   "cell_type": "code",
   "execution_count": null,
   "metadata": {},
   "outputs": [],
   "source": [
    "from datetime import datetime\n",
    "\n",
    "# Use xlim and ylim to define the axis ranges\n",
    "\n",
    "\n",
    "# Create plot\n",
    "\n",
    "\n",
    "# Add text to plot\n",
    "\n",
    "\n",
    "# Display plot legend\n"
   ]
  },
  {
   "cell_type": "markdown",
   "metadata": {},
   "source": [
    "_**Figure 4.6**. A plot of the example temperature data further modified with additional formatting and reduced axis ranges._\n",
    "\n",
    "As you can see, we now have a more informative plot with only a few changes in the plotting code."
   ]
  },
  {
   "cell_type": "markdown",
   "metadata": {},
   "source": [
    "## Dealing with datetime axes\n",
    "\n",
    "One issue we will encounter both with placing text on the plot and changing the axis ranges is the `datetime` index for our `DataFrame`. In order to do either thing, we need to define x-values using a `datetime` object. The easiest way to do this is to use the `pandas` `pd.to_datetime()` function, which converts a character string date to a `datetime` object. For example, we can convert 13:00 on October 1, 2019 from the character string `'201910011300'` to a `datetime` equivalent by typing"
   ]
  },
  {
   "cell_type": "code",
   "execution_count": null,
   "metadata": {},
   "outputs": [],
   "source": []
  },
  {
   "cell_type": "markdown",
   "metadata": {},
   "source": [
    "With this datetime issue in mind, let's now create a modified version of the plot above. In this plot we can\n",
    "\n",
    "1. Limit our time range to 12:00 to 15:00 on October 1, 2019\n",
    "2. Only look at temperatures between 40-46° Fahrenheit\n",
    "3. Add text to note the coldest part of the early afternoon"
   ]
  },
  {
   "cell_type": "code",
   "execution_count": null,
   "metadata": {},
   "outputs": [],
   "source": [
    "# Define dates\n",
    "start_time = \n",
    "end_time = \n",
    "cold_time = \n",
    "\n",
    "# Adjust axis limits\n",
    "\n",
    "\n",
    "# Add plot text\n"
   ]
  },
  {
   "cell_type": "markdown",
   "metadata": {},
   "source": [
    "_**Figure 4.7**. A plot of the example temperature data further modified with additional formatting and reduced axis ranges._"
   ]
  },
  {
   "cell_type": "markdown",
   "metadata": {
    "editable": true,
    "slideshow": {
     "slide_type": ""
    },
    "tags": [
     "question"
    ]
   },
   "source": [
    "#### Question 4.1\n",
    "\n",
    "Create a line plot similar to the examples above with the following attributes: (1) Temperature data from 18:00-24:00 on October 1, 2019, (2) \n",
    "a dotted red line connecting the observations (do not show the data points), (3) a title that reads \"Evening temperatures at Helsinki-Vantaa on October 1, 2019\", and (4) a text label indicating the warmest temperature in the evening."
   ]
  },
  {
   "cell_type": "code",
   "execution_count": null,
   "metadata": {
    "tags": [
     "remove_cell"
    ]
   },
   "outputs": [],
   "source": [
    "# Use this cell to enter your solution.\n"
   ]
  },
  {
   "cell_type": "markdown",
   "metadata": {},
   "source": [
    "> 📘 **Legend Location in Matplotlib / Pandas Plots**\n",
    ">\n",
    "> The `loc` parameter in `legend()` defines **where the legend appears** on the plot.\n",
    "> You can use either **numbers** or **descriptive strings**.\n",
    ">\n",
    "> | `loc` | String equivalent | Position on Plot |\n",
    "> |:------:|:------------------|:-----------------|\n",
    "> | 0 | `'best'` | Automatically chooses the best spot |\n",
    "> | 1 | `'upper right'` | Top-right corner |\n",
    "> | 2 | `'upper left'` | Top-left corner |\n",
    "> | 3 | `'lower left'` | Bottom-left corner |\n",
    "> | 4 | `'lower right'` | Bottom-right corner |\n",
    "> | 5 | `'right'` | Center right |\n",
    "> | 6 | `'center left'` | Center left |\n",
    "> | 7 | `'center right'` | Center right |\n",
    "> | 8 | `'lower center'` | Bottom center |\n",
    "> | 9 | `'upper center'` | Top center |\n",
    "> | 10 | `'center'` | Center of plot |\n",
    ">\n",
    "> 💡 **Example:**\n",
    "> ```python\n",
    "> ax.legend(loc='upper left')  # Moves legend to the top-left corner\n",
    "> ```\n",
    ">\n",
    "> ✅ Tip: Use `loc='best'` to let Matplotlib automatically place the legend where it overlaps the data the least.\n"
   ]
  },
  {
   "cell_type": "markdown",
   "metadata": {},
   "source": [
    "## Bar plots in pandas\n",
    "\n",
    "In addition to line plots, there are many other options for plotting in `pandas`.\n",
    "Bar plots are one option, which can be used quite similarly to line plots with the addition of the `kind=bar` parameter.\n",
    "Note that it is easiest to plot our selected time range for a bar plot by selecting the dates in our data `Series` first, rather than adjusting the plot limits. `pandas` sees bar plot data as categorical, so the date range is more difficult to define for x-axis limits. For the y-axis, we can still define its range using the `ylim=[ymin, ymax]` parameter. Similarly, text placement on a bar plot is more difficult, and most easily done using the index value of the bar where the text should be placed."
   ]
  },
  {
   "cell_type": "code",
   "execution_count": null,
   "metadata": {},
   "outputs": [],
   "source": [
    "oct1_afternoon = \n",
    "\n",
    "# Plot temperature data as a bar plot\n",
    "\n",
    "\n",
    "# Add text to plot\n"
   ]
  },
  {
   "cell_type": "markdown",
   "metadata": {},
   "source": [
    "_**Figure 4.8**. A bar plot using pandas with the example temperature data._\n",
    "\n",
    "You can find more about how to format bar charts on the [`pandas` documentation website](https://pandas.pydata.org/pandas-docs/stable/reference/api/pandas.DataFrame.plot.bar.html) [^pandas-docs]."
   ]
  },
  {
   "cell_type": "markdown",
   "metadata": {},
   "source": [
    "## Saving your plots as image files\n",
    "\n",
    "Saving plots created using `pandas` can be done in several ways.\n",
    "The recommendation for use outside of Jupyter Notebooks is to use the `plt.savefig()` function from `matplotlib`.\n",
    "When using `plt.savefig()`, you simply give a list of commands to generate a plot and include `plt.savefig()` with some parameters as the last command in the Python cell.\n",
    "The file name is required, and the image format will be determined based on the listed file extension.\n",
    "\n",
    "`matplotlib` plots can be saved in a number of useful file formats, including PNG, PDF, and EPS.\n",
    "PNG is a nice format for raster images, and EPS is probably easiest to use for vector graphics.\n",
    "Let's check out an example of how to save our lovely bar plot.\n",
    "\n",
    "```python\n",
    "oct1_afternoon = oct1_temps.loc[oct1_temps.index <= \"201910011500\"]\n",
    "\n",
    "ax = oct1_afternoon.plot(\n",
    "    kind=\"bar\",\n",
    "    title=\"Helsinki-Vantaa temperatures\",\n",
    "    xlabel=\"Date\",\n",
    "    ylabel=\"Temperature [°F]\",\n",
    "    ylim=[40, 46],\n",
    "    label=\"Observed temperature\",\n",
    "    figsize=(12, 6),\n",
    ")\n",
    "\n",
    "ax.text(0, 42.1, \"Coldest \\ntemp \\nv\")\n",
    "ax.legend()\n",
    "\n",
    "# Write figure to PNG file\n",
    "plt.savefig(\"bar-plot.png\")\n",
    "```\n",
    "\n",
    "The commands above would both plot the figure and save a copy in a raster image titled `bar-plot.png`. If working in the JupyterLab environment, you would see the new plot file in the file browser on the left side of the notebook window.\n",
    "\n",
    "Just to demonstrate once again, we can save another version of the plot at a higher resolution with a minor change to the plot commands above.\n",
    "\n",
    "```python\n",
    "oct1_afternoon = oct1_temps.loc[oct1_temps.index <= \"201910011500\"]\n",
    "\n",
    "ax = oct1_afternoon.plot(\n",
    "    kind=\"bar\",\n",
    "    title=\"Helsinki-Vantaa temperatures\",\n",
    "    xlabel=\"Date\",\n",
    "    ylabel=\"Temperature [°F]\",\n",
    "    ylim=[40, 46],\n",
    "    label=\"Observed temperature\",\n",
    "    figsize=(12, 6),\n",
    ")\n",
    "\n",
    "ax.text(0, 42.1, \"Coldest \\ntemp \\nv\")\n",
    "ax.legend()\n",
    "\n",
    "# Write figure to PDF file with 600 dpi resolution\n",
    "plt.savefig(\"bar-plot-hi-res.pdf\", dpi=600)\n",
    "```\n",
    "\n",
    "This would save the output plot as a PDF file with a resolution of 600 dots per inch."
   ]
  },
  {
   "cell_type": "code",
   "execution_count": null,
   "metadata": {},
   "outputs": [],
   "source": []
  },
  {
   "cell_type": "code",
   "execution_count": null,
   "metadata": {},
   "outputs": [],
   "source": []
  },
  {
   "cell_type": "markdown",
   "metadata": {},
   "source": [
    "## Interactive plotting, a teaser\n",
    "\n",
    "We have seen in the previous parts of this chapter that there are many ways to configure and visualize data using Python. Up to this point, however, we have focused on static visualizations in Jupyter Notebooks or those saved as images. As you might imagine, there are numerous Python options to also create interactive visualizations that allow those viewing them to dive deeper into the data and explore. Interactive visualizations are increasingly popular online, and here we provide a brief example of how to create an interactive visualization using the data we have already plotted above. In this example, we will be using the `hvplot` library [^hvplot].\n",
    "\n",
    "`hvplot` is a high-level plotting package that can accept several different common Python data types and plot them using using the `bokeh` visualization library [^bokeh]. The great thing with `hvplot` is that it takes almost no effort to move from plotting in `pandas` to creating interactive plots. We can explore this in the following example.\n",
    "\n",
    "Let us start by importing the `pandas` submodule of `hvplot`."
   ]
  },
  {
   "cell_type": "code",
   "execution_count": null,
   "metadata": {},
   "outputs": [],
   "source": [
    "import hvplot.pandas"
   ]
  },
  {
   "cell_type": "markdown",
   "metadata": {
    "editable": true,
    "slideshow": {
     "slide_type": ""
    },
    "tags": []
   },
   "source": [
    "With the submodule imported, we can simply take a slice of data from the `data` `DataFrame`, the month of July in 2014 in this example, and create a plot just as we would in `pandas`. The only difference here is that we will use the `.hvplot()` method rather than the `.plot()` method from `pandas`."
   ]
  },
  {
   "cell_type": "code",
   "execution_count": null,
   "metadata": {
    "editable": true,
    "slideshow": {
     "slide_type": ""
    },
    "tags": []
   },
   "outputs": [],
   "source": [
    "july2014_df = data.loc[(data.index >= \"201407010000\") & (data.index < \"201407310000\")]\n",
    "\n",
    "july2014_df.hvplot(\n",
    "    title=\"Helsinki-Vantaa temperatures\",\n",
    "    xlabel=\"Date\",\n",
    "    ylabel=\"Temperature [°F]\",\n",
    "    ylim=[45.0, 90.0],\n",
    ")"
   ]
  },
  {
   "cell_type": "markdown",
   "metadata": {},
   "source": [
    "_**Figure 4.9**. An interactive plot example using hvPlot._\n",
    "\n",
    "Now we have an interactive line plot where the users can place their mouse cursor above the line to see the plotted values at a given location, zoom in and/or pan the plot to areas of interest, and click on the legend items to hide or display them. And as you can see, `hvplot` makes it very easy to start creating your own interactive plots from a `pandas` `DataFrame`.\n",
    "\n",
    "That is all we will explore for the moment, but you are welcome to have a look at the [`hvplot` User Guide](https://hvplot.holoviz.org/user_guide/index.html) [^hvplot_guide] to learn more about the types of visualizations available in `hvplot` and how to use them."
   ]
  }
 ],
 "metadata": {
  "kernelspec": {
   "display_name": "Python 3 (ipykernel)",
   "language": "python",
   "name": "python3"
  },
  "language_info": {
   "codemirror_mode": {
    "name": "ipython",
    "version": 3
   },
   "file_extension": ".py",
   "mimetype": "text/x-python",
   "name": "python",
   "nbconvert_exporter": "python",
   "pygments_lexer": "ipython3",
   "version": "3.13.3"
  },
  "pycharm": {
   "stem_cell": {
    "cell_type": "raw",
    "metadata": {
     "collapsed": false
    },
    "source": []
   }
  }
 },
 "nbformat": 4,
 "nbformat_minor": 4
}
