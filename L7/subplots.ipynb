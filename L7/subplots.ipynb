{
 "cells": [
  {
   "cell_type": "markdown",
   "metadata": {
    "editable": true,
    "slideshow": {
     "slide_type": ""
    },
    "tags": []
   },
   "source": [
    "# Creating subplots\n",
    "\n",
    "At this point you should know the basics of making plots with `matplotlib`. Now we will expand on our basic plotting skills to learn how to create more advanced plots. In this section, we will show how to visualize data using `pandas` and `matplotlib` and create multi-panel plots such as the one below.\n",
    "\n",
    "![_**Figure 4.10**. An example of seasonal temperatures for 2012-2013 using pandas and Matplotlib._](img/subplots.png)\n",
    "\n",
    "_**Figure 4.10**. An example of seasonal temperatures for 2012-2013 using pandas and Matplotlib._"
   ]
  },
  {
   "cell_type": "markdown",
   "metadata": {},
   "source": [
    "## Preparing the data for plotting \n",
    "\n",
    "We will start again by reading in the data file."
   ]
  },
  {
   "cell_type": "code",
   "execution_count": null,
   "metadata": {},
   "outputs": [],
   "source": [
    "import pandas as pd\n",
    "import matplotlib.pyplot as plt\n",
    "\n",
    "fp = \"data/029740.txt\"\n",
    "\n",
    "data = pd.read_csv(\n",
    "    fp,\n",
    "    sep=r\"\\s+\",\n",
    "    na_values=[\"*\", \"**\", \"***\", \"****\", \"*****\", \"******\"],\n",
    "    usecols=[\"YR--MODAHRMN\", \"TEMP\", \"MAX\", \"MIN\"],\n",
    "    parse_dates=[\"YR--MODAHRMN\"],\n",
    "    index_col=\"YR--MODAHRMN\",\n",
    ")"
   ]
  },
  {
   "cell_type": "markdown",
   "metadata": {},
   "source": [
    "After reading the file, we can new rename the `TEMP` column as `TEMP_F`, since we will later convert our temperatures from Fahrenheit to Celsius."
   ]
  },
  {
   "cell_type": "code",
   "execution_count": null,
   "metadata": {},
   "outputs": [],
   "source": [
    "new_names = {\"TEMP\": \"TEMP_F\"}\n",
    "data = data.rename(columns=new_names)"
   ]
  },
  {
   "cell_type": "markdown",
   "metadata": {},
   "source": [
    "At this point we can quickly check the first rows of data to see whether the expected changes have occurred."
   ]
  },
  {
   "cell_type": "code",
   "execution_count": null,
   "metadata": {},
   "outputs": [],
   "source": []
  },
  {
   "cell_type": "markdown",
   "metadata": {},
   "source": [
    "Next, we have to deal with no-data values. Let's start by checking how many no-data values we have."
   ]
  },
  {
   "cell_type": "code",
   "execution_count": null,
   "metadata": {},
   "outputs": [],
   "source": []
  },
  {
   "cell_type": "markdown",
   "metadata": {},
   "source": [
    "So, there are 3579 missing values in the `TEMP_F` column and we should remove those. We need not worry about the no-data values in `MAX` and `MIN` columns since we will not use them for the plots produced below. We can remove rows from our `DataFrame` where `TEMP_F` is missing values using the `.dropna()` method."
   ]
  },
  {
   "cell_type": "code",
   "execution_count": null,
   "metadata": {},
   "outputs": [],
   "source": []
  },
  {
   "cell_type": "markdown",
   "metadata": {
    "editable": true,
    "slideshow": {
     "slide_type": ""
    },
    "tags": [
     "question"
    ]
   },
   "source": [
    "#### Question 4.2\n",
    "\n",
    "How many rows of data would remain if we removed all rows with any no-data values from our data (including no-data values in the `MAX` and `MIN` columns)? If you test this, be sure to save the modified `DataFrame` with another variable name or do not use the `inplace` parameter."
   ]
  },
  {
   "cell_type": "code",
   "execution_count": null,
   "metadata": {
    "editable": true,
    "slideshow": {
     "slide_type": ""
    },
    "tags": [
     "remove_cell"
    ]
   },
   "outputs": [],
   "source": [
    "# Use this cell to enter your solution.\n"
   ]
  },
  {
   "cell_type": "markdown",
   "metadata": {},
   "source": [
    "Now that we have loaded the data, we can convert the temperature values from Fahrenheit to Celsius, like we have in earlier chapters."
   ]
  },
  {
   "cell_type": "code",
   "execution_count": null,
   "metadata": {},
   "outputs": [],
   "source": []
  },
  {
   "cell_type": "markdown",
   "metadata": {},
   "source": [
    "We can once again now check the contents of our `DataFrame`."
   ]
  },
  {
   "cell_type": "code",
   "execution_count": null,
   "metadata": {},
   "outputs": [],
   "source": []
  },
  {
   "cell_type": "markdown",
   "metadata": {},
   "source": [
    "## Subplots\n",
    "\n",
    "Having processed and cleaned the data we can now continue working with it and learn how to create figures that contain {term}`subplots`. Subplots are used to display multiple plots in different panels of the same figure, as shown at the start of this section (Figure 4.10).\n",
    "\n",
    "We can start with creating the subplots by dividing the data in the data file into different groups. In this case we can divide the temperature data into temperatures for the four different seasons of the year. We can make the following selections:\n",
    "\n",
    "- Winter (December 2012 - February 2013)\n",
    "- Spring (March 2013 - May 2013)\n",
    "- Summer (June 2013 - August 2013)\n",
    "- Autumn (September 2013 - November 2013)"
   ]
  },
  {
   "cell_type": "code",
   "execution_count": null,
   "metadata": {},
   "outputs": [],
   "source": [
    "winter = data.loc[(data.index >= \"201212010000\") & (data.index < \"201303010000\")]\n",
    "winter_temps = winter[\"TEMP_C\"]\n",
    "\n",
    "spring = data.loc[(data.index >= \"201303010000\") & (data.index < \"201306010000\")]\n",
    "spring_temps = spring[\"TEMP_C\"]\n",
    "\n",
    "summer = data.loc[(data.index >= \"201306010000\") & (data.index < \"201309010000\")]\n",
    "summer_temps = summer[\"TEMP_C\"]\n",
    "\n",
    "autumn = data.loc[(data.index >= \"201309010000\") & (data.index < \"201312010000\")]\n",
    "autumn_temps = autumn[\"TEMP_C\"]"
   ]
  },
  {
   "cell_type": "markdown",
   "metadata": {},
   "source": [
    "Let's have a look at the data from two different seasons to see whether the preceding step appears to have worked as expected."
   ]
  },
  {
   "cell_type": "code",
   "execution_count": null,
   "metadata": {},
   "outputs": [],
   "source": []
  },
  {
   "cell_type": "markdown",
   "metadata": {},
   "source": [
    "_**Figure 4.11**. Winter temperatures for 2012-2013._"
   ]
  },
  {
   "cell_type": "code",
   "execution_count": null,
   "metadata": {},
   "outputs": [],
   "source": []
  },
  {
   "cell_type": "markdown",
   "metadata": {},
   "source": [
    "_**Figure 4.12**. Summer temperatures for 2012-2013._\n",
    "\n",
    "Based on the plots above it looks that the correct seasons have been plotted and the temperatures between winter and summer are quite different, as we would expect. One thing we might need to consider with this is that the y-axis range currently varies between the two plots and we may want to define axis ranges that ensure the data are plotted with the same y-axis ranges in all subplots. This will help make it easier to visually compare the temperatures between seasons.\n",
    "\n",
    "### Finding the data bounds\n",
    "\n",
    "In order to define y-axis limits that will include the data from all of the seasons and be consistent between subplots we first need to find the minimum and maximum temperatures from all of the seasons.\n",
    "In addition, we should consider that it would be beneficial to have some extra space (padding) between the y-axis limits and those values, such that, for example, the maximum y-axis limit is five degrees higher than the maximum temperature and the minimum y-axis limit is five degrees lower than the minimum temperature. We can do that below by calculating the minimum of each seasons minimum temperature and subtracting five degrees."
   ]
  },
  {
   "cell_type": "code",
   "execution_count": null,
   "metadata": {},
   "outputs": [],
   "source": [
    "# Find lower limit for y-axis\n",
    "\n",
    "\n",
    "# Find upper limit for y-axis\n",
    "\n",
    "\n",
    "# Print y-axis min, max\n",
    "print(f\"Minimum temperature: {min_temp}\")\n",
    "print(f\"Maximum temperature: {max_temp}\")"
   ]
  },
  {
   "cell_type": "markdown",
   "metadata": {},
   "source": [
    "We can now use this temperature range to standardize the y-axis ranges of our plots.\n",
    "\n",
    "### Displaying multiple subplots in a single figure\n",
    "\n",
    "With the data split into seasons and y-axis range defined we can now continue to plot data from all four seasons the same figure. We will start by creating a figure containing four subplots in a two by two panel using the `.subplots()` function from `matplotlib`. In the `.subplots()` function, the user can specify how many rows and columns of plots they want to have in their figure.\n",
    "We can also specify the size of our figure with the `figsize` parameter that takes the `width` and `height` values (in inches) as input."
   ]
  },
  {
   "cell_type": "code",
   "execution_count": null,
   "metadata": {},
   "outputs": [],
   "source": []
  },
  {
   "cell_type": "markdown",
   "metadata": {},
   "source": [
    "_**Figure 4.13**. Empty figure template with a 2x2 subplot panel._\n",
    "\n",
    "We can see from the output of the code cell that we now have a list containing two nested lists, where the first nested list contains the axes for column 1 and 2 of row 1 and the second contains the axes for columns 1 and 2 of row 2.\n",
    "\n",
    "To make it easier to keep track of things, we can parse these axes into their own variables as follows."
   ]
  },
  {
   "cell_type": "code",
   "execution_count": null,
   "metadata": {},
   "outputs": [],
   "source": []
  },
  {
   "cell_type": "markdown",
   "metadata": {},
   "source": [
    "Now we have four different axis variables for the different panels in our figure.\n",
    "Next we can use these axes to plot the seasonal temperature data.\n",
    "We can start by plotting the data for the different seasons with different colors for each of the lines, and we can specify the y-axis limits to be the same for all of the subplots.\n",
    "\n",
    "- We can use the `c` parameter to change the color of the line. You can define colors using RBG color codes, but it is often easier to use one of the [`matplotlib` named colors](https://matplotlib.org/stable/gallery/color/named_colors.html) [^matplotlib_colors].\n",
    "- We can also change the line width or weight using the `lw` parameter.\n",
    "- The `ylim` parameter can be used to define the y-axis limits.\n",
    "\n",
    "Putting all of this together in a single code cell we have the following:"
   ]
  },
  {
   "cell_type": "code",
   "execution_count": null,
   "metadata": {},
   "outputs": [],
   "source": [
    "# Create the figure and subplot axes\n",
    "fig, axs = plt.subplots(nrows=2, ncols=2, figsize=(12, 8))\n",
    "\n",
    "# Define variables to more easily refer to individual axes\n",
    "ax11 = axs[0][0]\n",
    "ax12 = axs[0][1]\n",
    "ax21 = axs[1][0]\n",
    "ax22 = axs[1][1]\n",
    "\n",
    "# Set plot line width\n",
    "line_width = 1.5\n",
    "\n",
    "# Plot data\n",
    "\n",
    "\n",
    "# Display the plot\n",
    "# Note: This is not required, but suppresses text from being printed\n",
    "# in the output cell\n",
    "plt.show()"
   ]
  },
  {
   "cell_type": "markdown",
   "metadata": {},
   "source": [
    "_**Figure 4.14**. Seasonal temperatures for 2012-2013 plotted in a 2x2 panel._\n",
    "\n",
    "Great, now we have all the plots in same figure! However, we can see that there are some problems with our x-axis labels and a few other missing plot items we should add. \n",
    "\n",
    "Let's recreate the plot and make some improvements. In this version of the plot we will:\n",
    "\n",
    "- Modify the x- and y-axis labels using the `xlabel` and `ylabel` parameters in the `.plot()` function.\n",
    "- Enable grid lines on the plot using the `grid=True` parameter for the `.plot()` function.\n",
    "- Add a figure title using the `fig.suptitle()` function.\n",
    "- Rotate the x-axis labels using the `plt.setp()` function.\n",
    "- Add a text label for each plot panel using the `.text()` function."
   ]
  },
  {
   "cell_type": "code",
   "execution_count": null,
   "metadata": {},
   "outputs": [],
   "source": [
    "# Create the figure and subplot axes\n",
    "fig, axs = plt.subplots(nrows=2, ncols=2, figsize=(12, 8))\n",
    "\n",
    "# Define variables to more easily refer to individual axes\n",
    "ax11 = axs[0][0]\n",
    "ax12 = axs[0][1]\n",
    "ax21 = axs[1][0]\n",
    "ax22 = axs[1][1]\n",
    "\n",
    "# Set plot line width\n",
    "line_width = 1.5\n",
    "\n",
    "# Plot data\n",
    "winter_temps.plot(\n",
    "    ax=ax11,\n",
    "    c=\"blue\",\n",
    "    lw=line_width,\n",
    "    ylim=[min_temp, max_temp],\n",
    "    ylabel=\"Temperature [°C]\",\n",
    "    grid=True,\n",
    ")\n",
    "spring_temps.plot(\n",
    "    ax=ax12, c=\"orange\", lw=line_width, ylim=[min_temp, max_temp], grid=True\n",
    ")\n",
    "summer_temps.plot(\n",
    "    ax=ax21,\n",
    "    c=\"green\",\n",
    "    lw=line_width,\n",
    "    ylim=[min_temp, max_temp],\n",
    "    xlabel=\"Date\",\n",
    "    ylabel=\"Temperature [°C]\",\n",
    "    grid=True,\n",
    ")\n",
    "autumn_temps.plot(\n",
    "    ax=ax22,\n",
    "    c=\"brown\",\n",
    "    lw=line_width,\n",
    "    ylim=[min_temp, max_temp],\n",
    "    xlabel=\"Date\",\n",
    "    grid=True,\n",
    ")\n",
    "\n",
    "# Set figure title\n",
    "fig.suptitle(\"2012-2013 Seasonal temperature observations\" \"- Helsinki-Vantaa airport\")\n",
    "\n",
    "# Rotate the x-axis labels so they don't overlap\n",
    "plt.setp(ax11.xaxis.get_majorticklabels(), rotation=20)\n",
    "plt.setp(ax12.xaxis.get_majorticklabels(), rotation=20)\n",
    "plt.setp(ax21.xaxis.get_majorticklabels(), rotation=20)\n",
    "plt.setp(ax22.xaxis.get_majorticklabels(), rotation=20)\n",
    "\n",
    "# Season label text\n",
    "ax11.text(pd.to_datetime(\"20130215\"), -25, \"Winter\")\n",
    "ax12.text(pd.to_datetime(\"20130515\"), -25, \"Spring\")\n",
    "ax21.text(pd.to_datetime(\"20130815\"), -25, \"Summer\")\n",
    "ax22.text(pd.to_datetime(\"20131115\"), -25, \"Autumn\")\n",
    "\n",
    "# Display the figure\n",
    "plt.show()"
   ]
  },
  {
   "cell_type": "markdown",
   "metadata": {},
   "source": [
    "_**Figure 4.15**. Seasonal temperatures for 2012-2013 plotted with season names and gridlines visible._\n",
    "\n",
    "The new version of the figure essentially conveys the same information as the first version, but the additional plot items help to make it easier to see the plot values and immediately understand the data being presented. Not bad."
   ]
  },
  {
   "cell_type": "markdown",
   "metadata": {
    "editable": true,
    "slideshow": {
     "slide_type": ""
    },
    "tags": [
     "question"
    ]
   },
   "source": [
    "#### Question 4.3\n",
    "\n",
    "Visualize only the winter and summer temperatures in a one by two panel figure. Save the resulting figure as a .png file."
   ]
  },
  {
   "cell_type": "code",
   "execution_count": null,
   "metadata": {
    "tags": [
     "remove_cell"
    ]
   },
   "outputs": [],
   "source": [
    "# Use this cell to enter your solution.\n"
   ]
  }
 ],
 "metadata": {
  "kernelspec": {
   "display_name": "Python 3 (ipykernel)",
   "language": "python",
   "name": "python3"
  },
  "language_info": {
   "codemirror_mode": {
    "name": "ipython",
    "version": 3
   },
   "file_extension": ".py",
   "mimetype": "text/x-python",
   "name": "python",
   "nbconvert_exporter": "python",
   "pygments_lexer": "ipython3",
   "version": "3.13.3"
  }
 },
 "nbformat": 4,
 "nbformat_minor": 4
}
